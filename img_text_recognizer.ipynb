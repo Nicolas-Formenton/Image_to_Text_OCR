{
 "cells": [
  {
   "cell_type": "code",
   "execution_count": null,
   "metadata": {},
   "outputs": [],
   "source": [
    "# Basic Reading of an image input and binarizing it into only Black and White to perform better visualization of text\n",
    "\n",
    "import cv2\n",
    "import numpy as np\n",
    "import pytesseract\n",
    "\n",
    "# Load the image\n",
    "img = cv2.imread('image.png')\n",
    "\n",
    "# Convert the image to grayscale\n",
    "gray = cv2.cvtColor(img, cv2.COLOR_BGR2GRAY)\n",
    "\n",
    "# Apply thresholding\n",
    "_, thresholded = cv2.threshold(gray, 0, 255, cv2.THRESH_BINARY + cv2.THRESH_OTSU)\n",
    "\n",
    "cv2.imwrite(\"binary_image.jpg\", thresholded)\n",
    "\n",
    "text = pytesseract.image_to_string(thresholded, lang='eng')\n",
    "print(text)"
   ]
  },
  {
   "cell_type": "code",
   "execution_count": null,
   "metadata": {},
   "outputs": [],
   "source": [
    "# Showing the binarized image and performing connected component analysis\n",
    "\n",
    "import cv2\n",
    "import numpy as np\n",
    "\n",
    "# Load the binary image\n",
    "binary_img = cv2.imread(\"binary_image.jpg\", 0)\n",
    "\n",
    "# Perform connected component analysis\n",
    "num_components, labels, stats, centroids = cv2.connectedComponentsWithStats(binary_img, connectivity=8)\n",
    "\n",
    "# Display the results\n",
    "for i in range(1, num_components):\n",
    "    x, y, w, h, area = stats[i]\n",
    "    cv2.rectangle(binary_img, (x, y), (x + w, y + h), (255, 0, 0), 2)\n",
    "\n",
    "# Show the image with connected components\n",
    "cv2.imshow(\"Connected Components\", binary_img)\n",
    "cv2.waitKey(0)\n",
    "cv2.destroyAllWindows()"
   ]
  },
  {
   "cell_type": "code",
   "execution_count": null,
   "metadata": {},
   "outputs": [],
   "source": [
    "# Adding character bounding boxes to the binarized images\n",
    "\n",
    "import cv2\n",
    "import numpy as np\n",
    "\n",
    "# Load the binary image\n",
    "binary_img = cv2.imread(\"binary_image.jpg\", 0)\n",
    "\n",
    "# Find the contours of the connected components\n",
    "contours, _ = cv2.findContours(binary_img, cv2.RETR_EXTERNAL, cv2.CHAIN_APPROX_SIMPLE)\n",
    "\n",
    "# Loop over each contour and compute the bounding box\n",
    "for contour in contours:\n",
    "    x, y, w, h = cv2.boundingRect(contour)\n",
    "    cv2.rectangle(binary_img, (x, y), (x + w, y + h), (255, 0, 0), 2)\n",
    "\n",
    "# Save the image with the character bounding boxes\n",
    "cv2.imwrite(\"character_bounding_boxes.jpg\", binary_img)"
   ]
  }
 ],
 "metadata": {
  "kernelspec": {
   "display_name": "Python 3",
   "language": "python",
   "name": "python3"
  },
  "language_info": {
   "codemirror_mode": {
    "name": "ipython",
    "version": 3
   },
   "file_extension": ".py",
   "mimetype": "text/x-python",
   "name": "python",
   "nbconvert_exporter": "python",
   "pygments_lexer": "ipython3",
   "version": "3.10.9"
  },
  "orig_nbformat": 4,
  "vscode": {
   "interpreter": {
    "hash": "85c576d62e5a69baba7dcae6282c7bf6fba6f8d537c9cbb11ca984aece3c77a0"
   }
  }
 },
 "nbformat": 4,
 "nbformat_minor": 2
}
